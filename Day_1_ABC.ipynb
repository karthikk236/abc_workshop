{
  "nbformat": 4,
  "nbformat_minor": 0,
  "metadata": {
    "colab": {
      "provenance": [],
      "mount_file_id": "1py-Pwenm1cNVMqhJRn186OImzHLlMary",
      "authorship_tag": "ABX9TyMXAGkhiS/oLWrKbfGGaSHw",
      "include_colab_link": true
    },
    "kernelspec": {
      "name": "python3",
      "display_name": "Python 3"
    },
    "language_info": {
      "name": "python"
    }
  },
  "cells": [
    {
      "cell_type": "markdown",
      "metadata": {
        "id": "view-in-github",
        "colab_type": "text"
      },
      "source": [
        "<a href=\"https://colab.research.google.com/github/karthikk236/abc_workshop/blob/main/Day_1_ABC.ipynb\" target=\"_parent\"><img src=\"https://colab.research.google.com/assets/colab-badge.svg\" alt=\"Open In Colab\"/></a>"
      ]
    },
    {
      "cell_type": "code",
      "execution_count": null,
      "metadata": {
        "colab": {
          "base_uri": "https://localhost:8080/"
        },
        "id": "jZpUMRsi9sT0",
        "outputId": "f8dd1b02-04c3-44aa-e75b-01d533445f24"
      },
      "outputs": [
        {
          "output_type": "stream",
          "name": "stdout",
          "text": [
            "Hello World\n"
          ]
        }
      ],
      "source": [
        "A='Hello World'\n",
        "print(A)"
      ]
    },
    {
      "cell_type": "code",
      "source": [
        "b=45\n",
        "c=90\n",
        "print(b+c)"
      ],
      "metadata": {
        "colab": {
          "base_uri": "https://localhost:8080/"
        },
        "id": "_PBp7ZGU_nBd",
        "outputId": "e5db515a-bf9f-4ef4-c6bc-33bd789a9199"
      },
      "execution_count": null,
      "outputs": [
        {
          "output_type": "stream",
          "name": "stdout",
          "text": [
            "135\n"
          ]
        }
      ]
    },
    {
      "cell_type": "code",
      "source": [
        "d=input('Enter any number')\n",
        "d=int(d)\n",
        "if d>0:\n",
        " print('d is positive')\n",
        "elif(d<0):\n",
        " print('d is negative')\n",
        "elif d==0:\n",
        " print('d is neither negative nor positive')\n"
      ],
      "metadata": {
        "colab": {
          "base_uri": "https://localhost:8080/"
        },
        "id": "q6AniaORAVV5",
        "outputId": "5c27287e-8773-483d-b810-fbdfd9bc08fd"
      },
      "execution_count": null,
      "outputs": [
        {
          "output_type": "stream",
          "name": "stdout",
          "text": [
            "Enter any number-29\n",
            "d is negative\n"
          ]
        }
      ]
    },
    {
      "cell_type": "code",
      "source": [
        "n=1.423\n",
        "print(n)\n",
        "type(n)"
      ],
      "metadata": {
        "colab": {
          "base_uri": "https://localhost:8080/"
        },
        "id": "XWbqCnpdB1z_",
        "outputId": "7a7c63b0-1a3b-4c4b-e8e6-25b0289f9874"
      },
      "execution_count": null,
      "outputs": [
        {
          "output_type": "stream",
          "name": "stdout",
          "text": [
            "1.423\n"
          ]
        },
        {
          "output_type": "execute_result",
          "data": {
            "text/plain": [
              "float"
            ]
          },
          "metadata": {},
          "execution_count": 12
        }
      ]
    },
    {
      "cell_type": "code",
      "source": [
        "a=input('enter any number')\n",
        "a=int(a)\n",
        "if a%2==0:\n",
        "  print('a is even')\n",
        "else:\n",
        " print('a is odd')\n"
      ],
      "metadata": {
        "colab": {
          "base_uri": "https://localhost:8080/"
        },
        "id": "sRK1HswXBcRX",
        "outputId": "0df612ec-0f93-44e4-e454-aa14cba849bf"
      },
      "execution_count": null,
      "outputs": [
        {
          "output_type": "stream",
          "name": "stdout",
          "text": [
            "enter any number29\n",
            "a is odd\n"
          ]
        }
      ]
    },
    {
      "cell_type": "code",
      "source": [
        "i=int(input('Enter any number'))\n",
        "while i<5:\n",
        " if i==3:\n",
        "  print('Hii')\n",
        " else:\n",
        "  print('Bye')\n",
        " i=i+1\n"
      ],
      "metadata": {
        "colab": {
          "base_uri": "https://localhost:8080/"
        },
        "id": "pgIE1MlPEnU4",
        "outputId": "c7c49737-e526-4bde-ae63-31efa6902aea"
      },
      "execution_count": null,
      "outputs": [
        {
          "name": "stdout",
          "output_type": "stream",
          "text": [
            "Enter any number45\n"
          ]
        }
      ]
    },
    {
      "cell_type": "code",
      "source": [
        "import random\n",
        "\n",
        "# Print multiline instruction\n",
        "print('Winning rules of the game ROCK PAPER SCISSORS are:\\n'\n",
        "      + \"Rock vs Paper -> Paper wins \\n\"\n",
        "      + \"Rock vs Scissors -> Rock wins \\n\"\n",
        "      + \"Paper vs Scissors -> Scissors wins \\n\")\n",
        "\n",
        "while True:\n",
        "\n",
        "    print(\"Enter your choice \\n 1 - Rock \\n 2 - Paper \\n 3 - Scissors \\n\")\n",
        "\n",
        "    # Take the input from user\n",
        "    choice = int(input(\"Enter your choice: \"))\n",
        "\n",
        "    # Looping until user enters valid input\n",
        "    while choice > 3 or choice < 1:\n",
        "        choice = int(input('Enter a valid choice please : '))\n",
        "\n",
        "    # Initialize value of choice_name variable corresponding to the choice value\n",
        "    if choice == 1:\n",
        "        choice_name = 'Rock'\n",
        "    elif choice == 2:\n",
        "        choice_name = 'Paper'\n",
        "    else:\n",
        "        choice_name = 'Scissors'\n",
        "\n",
        "    # Print user choice\n",
        "    print('User choice is:', choice_name)\n",
        "    print(\"Now it's Computer's Turn...\")\n",
        "\n",
        "    # Computer chooses randomly any number among 1, 2, and 3\n",
        "    comp_choice = random.randint(1, 3)\n",
        "\n",
        "    # Initialize value of comp_choice_name variable corresponding to the choice value\n",
        "    if comp_choice == 1:\n",
        "        comp_choice_name = 'Rock'\n",
        "    elif comp_choice == 2:\n",
        "        comp_choice_name = 'Paper'\n",
        "    else:\n",
        "        comp_choice_name = 'Scissors'\n",
        "\n",
        "    print(\"Computer choice is:\", comp_choice_name)\n",
        "    print(choice_name, 'vs', comp_choice_name)\n",
        "\n",
        "    # Determine the winner\n",
        "    if choice == comp_choice:\n",
        "        result = \"DRAW\"\n",
        "    elif (choice == 1 and comp_choice == 2) or (comp_choice == 1 and choice == 2):\n",
        "        result = 'Paper'\n",
        "    elif (choice == 1 and comp_choice == 3) or (comp_choice == 1 and choice == 3):\n",
        "        result = 'Rock'\n",
        "    elif (choice == 2 and comp_choice == 3) or (comp_choice == 2 and choice == 3):\n",
        "        result = 'Scissors'\n",
        "\n",
        "    # Print the result\n",
        "    if result == \"DRAW\":\n",
        "        print(\"<== It's a tie! ==>\")\n",
        "    elif result == choice_name:\n",
        "        print(\"<== User wins! ==>\")\n",
        "    else:\n",
        "        print(\"<== Computer wins! ==>\")\n",
        "\n",
        "    # Ask if the user wants to play again\n",
        "    print(\"Do you want to play again? (Y/N)\")\n",
        "    ans = input().lower()\n",
        "    if ans == 'n':\n",
        "        break\n",
        "\n",
        "# After coming out of the while loop, print thanks for playing\n",
        "print(\"Thanks for playing!\")"
      ],
      "metadata": {
        "colab": {
          "base_uri": "https://localhost:8080/",
          "height": 894
        },
        "id": "PPQWBuUTKo2M",
        "outputId": "285df357-9eb7-43c3-c122-4db68167c5de"
      },
      "execution_count": null,
      "outputs": [
        {
          "output_type": "stream",
          "name": "stdout",
          "text": [
            "Winning rules of the game ROCK PAPER SCISSORS are:\n",
            "Rock vs Paper -> Paper wins \n",
            "Rock vs Scissors -> Rock wins \n",
            "Paper vs Scissors -> Scissors wins \n",
            "\n",
            "Enter your choice \n",
            " 1 - Rock \n",
            " 2 - Paper \n",
            " 3 - Scissors \n",
            "\n",
            "Enter your choice: 1\n",
            "User choice is: Rock\n",
            "Now it's Computer's Turn...\n",
            "Computer choice is: Rock\n",
            "Rock vs Rock\n",
            "<== It's a tie! ==>\n",
            "Do you want to play again? (Y/N)\n",
            "2\n",
            "Enter your choice \n",
            " 1 - Rock \n",
            " 2 - Paper \n",
            " 3 - Scissors \n",
            "\n",
            "Enter your choice: 2\n",
            "User choice is: Paper\n",
            "Now it's Computer's Turn...\n",
            "Computer choice is: Rock\n",
            "Paper vs Rock\n",
            "<== User wins! ==>\n",
            "Do you want to play again? (Y/N)\n"
          ]
        },
        {
          "output_type": "error",
          "ename": "KeyboardInterrupt",
          "evalue": "Interrupted by user",
          "traceback": [
            "\u001b[0;31m---------------------------------------------------------------------------\u001b[0m",
            "\u001b[0;31mKeyboardInterrupt\u001b[0m                         Traceback (most recent call last)",
            "\u001b[0;32m<ipython-input-1-2e0a90516194>\u001b[0m in \u001b[0;36m<cell line: 9>\u001b[0;34m()\u001b[0m\n\u001b[1;32m     64\u001b[0m     \u001b[0;31m# Ask if the user wants to play again\u001b[0m\u001b[0;34m\u001b[0m\u001b[0;34m\u001b[0m\u001b[0m\n\u001b[1;32m     65\u001b[0m     \u001b[0mprint\u001b[0m\u001b[0;34m(\u001b[0m\u001b[0;34m\"Do you want to play again? (Y/N)\"\u001b[0m\u001b[0;34m)\u001b[0m\u001b[0;34m\u001b[0m\u001b[0;34m\u001b[0m\u001b[0m\n\u001b[0;32m---> 66\u001b[0;31m     \u001b[0mans\u001b[0m \u001b[0;34m=\u001b[0m \u001b[0minput\u001b[0m\u001b[0;34m(\u001b[0m\u001b[0;34m)\u001b[0m\u001b[0;34m.\u001b[0m\u001b[0mlower\u001b[0m\u001b[0;34m(\u001b[0m\u001b[0;34m)\u001b[0m\u001b[0;34m\u001b[0m\u001b[0;34m\u001b[0m\u001b[0m\n\u001b[0m\u001b[1;32m     67\u001b[0m     \u001b[0;32mif\u001b[0m \u001b[0mans\u001b[0m \u001b[0;34m==\u001b[0m \u001b[0;34m'n'\u001b[0m\u001b[0;34m:\u001b[0m\u001b[0;34m\u001b[0m\u001b[0;34m\u001b[0m\u001b[0m\n\u001b[1;32m     68\u001b[0m         \u001b[0;32mbreak\u001b[0m\u001b[0;34m\u001b[0m\u001b[0;34m\u001b[0m\u001b[0m\n",
            "\u001b[0;32m/usr/local/lib/python3.10/dist-packages/ipykernel/kernelbase.py\u001b[0m in \u001b[0;36mraw_input\u001b[0;34m(self, prompt)\u001b[0m\n\u001b[1;32m    849\u001b[0m                 \u001b[0;34m\"raw_input was called, but this frontend does not support input requests.\"\u001b[0m\u001b[0;34m\u001b[0m\u001b[0;34m\u001b[0m\u001b[0m\n\u001b[1;32m    850\u001b[0m             )\n\u001b[0;32m--> 851\u001b[0;31m         return self._input_request(str(prompt),\n\u001b[0m\u001b[1;32m    852\u001b[0m             \u001b[0mself\u001b[0m\u001b[0;34m.\u001b[0m\u001b[0m_parent_ident\u001b[0m\u001b[0;34m,\u001b[0m\u001b[0;34m\u001b[0m\u001b[0;34m\u001b[0m\u001b[0m\n\u001b[1;32m    853\u001b[0m             \u001b[0mself\u001b[0m\u001b[0;34m.\u001b[0m\u001b[0m_parent_header\u001b[0m\u001b[0;34m,\u001b[0m\u001b[0;34m\u001b[0m\u001b[0;34m\u001b[0m\u001b[0m\n",
            "\u001b[0;32m/usr/local/lib/python3.10/dist-packages/ipykernel/kernelbase.py\u001b[0m in \u001b[0;36m_input_request\u001b[0;34m(self, prompt, ident, parent, password)\u001b[0m\n\u001b[1;32m    893\u001b[0m             \u001b[0;32mexcept\u001b[0m \u001b[0mKeyboardInterrupt\u001b[0m\u001b[0;34m:\u001b[0m\u001b[0;34m\u001b[0m\u001b[0;34m\u001b[0m\u001b[0m\n\u001b[1;32m    894\u001b[0m                 \u001b[0;31m# re-raise KeyboardInterrupt, to truncate traceback\u001b[0m\u001b[0;34m\u001b[0m\u001b[0;34m\u001b[0m\u001b[0m\n\u001b[0;32m--> 895\u001b[0;31m                 \u001b[0;32mraise\u001b[0m \u001b[0mKeyboardInterrupt\u001b[0m\u001b[0;34m(\u001b[0m\u001b[0;34m\"Interrupted by user\"\u001b[0m\u001b[0;34m)\u001b[0m \u001b[0;32mfrom\u001b[0m \u001b[0;32mNone\u001b[0m\u001b[0;34m\u001b[0m\u001b[0;34m\u001b[0m\u001b[0m\n\u001b[0m\u001b[1;32m    896\u001b[0m             \u001b[0;32mexcept\u001b[0m \u001b[0mException\u001b[0m \u001b[0;32mas\u001b[0m \u001b[0me\u001b[0m\u001b[0;34m:\u001b[0m\u001b[0;34m\u001b[0m\u001b[0;34m\u001b[0m\u001b[0m\n\u001b[1;32m    897\u001b[0m                 \u001b[0mself\u001b[0m\u001b[0;34m.\u001b[0m\u001b[0mlog\u001b[0m\u001b[0;34m.\u001b[0m\u001b[0mwarning\u001b[0m\u001b[0;34m(\u001b[0m\u001b[0;34m\"Invalid Message:\"\u001b[0m\u001b[0;34m,\u001b[0m \u001b[0mexc_info\u001b[0m\u001b[0;34m=\u001b[0m\u001b[0;32mTrue\u001b[0m\u001b[0;34m)\u001b[0m\u001b[0;34m\u001b[0m\u001b[0;34m\u001b[0m\u001b[0m\n",
            "\u001b[0;31mKeyboardInterrupt\u001b[0m: Interrupted by user"
          ]
        }
      ]
    },
    {
      "cell_type": "code",
      "source": [
        "import random\n",
        "print('Winning rules of the game ROCK PAPER SCISSORS are:\\n'\n",
        "      + \"Rock vs Paper -> Paper wins \\n\"\n",
        "      + \"Rock vs Scissors -> Rock wins \\n\"\n",
        "      + \"Paper vs Scissors -> Scissors wins \\n\")\n"
      ],
      "metadata": {
        "id": "eWgXGTUj3DsE"
      },
      "execution_count": null,
      "outputs": []
    }
  ]
}